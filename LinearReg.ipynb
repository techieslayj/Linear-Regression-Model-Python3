{
 "cells": [
  {
   "cell_type": "code",
   "execution_count": null,
   "metadata": {},
   "outputs": [],
   "source": [
    "#imports\n",
    "import numpy as np\n",
    "import pandas as pd\n",
    "import matplotlib.pyplot as plt\n",
    "from sklearn.linear_model import LinearRegression\n",
    "from sklearn.model_selection import train_test_split\n",
    "from sklearn.metrics import mean_squared_error, r2_score, accuracy_score"
   ]
  },
  {
   "cell_type": "code",
   "execution_count": null,
   "metadata": {},
   "outputs": [],
   "source": [
    "#import data\n",
    "data = pd.read_csv('bottle.csv', delimiter=',', low_memory=False)\n",
    "\n",
    "#remove blank values from dataset \n",
    "\n",
    "# Drop rows with any empty cells\n",
    "data.dropna(axis=0, how='any', thresh=None, subset=['T_degC','Salnty', 'STheta'], inplace=True)\n",
    "#split data in to x and y for linear regression\n",
    "\n",
    "#take density into affect\n",
    "dens = data.values[:,8:9]\n",
    "\n",
    "#salinity data couple with density (STheta)\n",
    "x = data[['Salnty', 'STheta']]\n",
    "\n",
    "#water temp data\n",
    "y = data.values[:,5:6]\n",
    "\n",
    "\n",
    "#split the test annd training sets\n",
    "xtrain, xtest, ytrain, ytest = train_test_split(x,y,test_size = .30)\n",
    "\n"
   ]
  },
  {
   "cell_type": "code",
   "execution_count": null,
   "metadata": {},
   "outputs": [],
   "source": [
    "print(xtest.values[:2])"
   ]
  },
  {
   "cell_type": "code",
   "execution_count": null,
   "metadata": {},
   "outputs": [],
   "source": [
    "# Model initialization\n",
    "regression_model = LinearRegression()\n",
    "# Fit the data(train the model)\n",
    "regression_model.fit(xtrain, ytrain)"
   ]
  },
  {
   "cell_type": "code",
   "execution_count": null,
   "metadata": {},
   "outputs": [],
   "source": [
    "ypred = regression_model.predict(xtest)\n",
    "print(ypred[1:5])\n",
    "print(ytest[1:5])"
   ]
  },
  {
   "cell_type": "code",
   "execution_count": null,
   "metadata": {},
   "outputs": [],
   "source": [
    "#Now take in mean squared error using sklearn\n",
    "rmse = mean_squared_error(ytest, ypred)\n",
    "r2 = r2_score(ytest, ypred)*100\n",
    "\n",
    "#print out result values before plotting\n",
    "print('Slope: ', regression_model.coef_)\n",
    "print('Intercept: ', regression_model.intercept_)\n",
    "print('Mean square error of the data: ', rmse)\n",
    "print('R2 percentage of the data: ', r2)\n"
   ]
  },
  {
   "cell_type": "code",
   "execution_count": null,
   "metadata": {},
   "outputs": [],
   "source": [
    "#Showing the negative relationship between salinity and temperature when we dont account for density\n",
    "\n",
    "plt.scatter(xtrain,ytrain, s = .01)\n",
    "plt.plot(range(28,38), regression_model.predict([[i] for i in range(28,38)]), color='y')\n",
    "plt.xlabel('Salinity')\n",
    "plt.ylabel('Temp. Deg Celsius')\n",
    "plt.show()"
   ]
  },
  {
   "cell_type": "code",
   "execution_count": null,
   "metadata": {},
   "outputs": [],
   "source": [
    "#Set Up contour to compare water temp and salinity accounting for density values as well\n",
    "\n",
    "\n",
    "#These results several results that I have seen in paper reflecting studies on salinity, water temp and density.\n",
    "N = 100\n",
    "\n",
    "x = np.linspace(data.values[:,6].min(), data.values[:,6].max(), N)\n",
    "y = np.linspace(24, 30, N)\n",
    "\n",
    "X, Y = np.meshgrid(x, y)\n",
    "\n",
    "#Uses our model to get a z based on our x and y,\n",
    "#y here is hardcoded in based on a density range 24-30 (view dataset to see full range of density values)\n",
    "#used chopped up density here to make a more concise prediction of the model trend\n",
    "z = regression_model.predict(np.vstack([X.ravel(), Y.ravel()]).transpose())\n",
    "\n",
    "\n",
    "z = np.reshape(z, X.shape)\n",
    "\n",
    "# Automatic selection of levels works; setting the\n",
    "# log locator tells contourf to use a log scale:\n",
    "fig, ax = plt.subplots()\n",
    "cs = ax.contourf(X, Y, z)\n",
    "\n",
    "\n",
    "cs = ax.contourf(X, Y, z)\n",
    "\n",
    "cbar = fig.colorbar(cs)\n",
    "#plt.scatter(xtrain, ytrain)\n",
    "plt.show()"
   ]
  },
  {
   "cell_type": "code",
   "execution_count": null,
   "metadata": {},
   "outputs": [],
   "source": [
    "#checking length of p arrays based on values greater than zero\n",
    "# and total size of the data set\n",
    "#p = z.ravel()\n",
    "#len(p[p > 0]),len(p)"
   ]
  }
 ],
 "metadata": {
  "kernelspec": {
   "display_name": "Python 3",
   "language": "python",
   "name": "python3"
  },
  "language_info": {
   "codemirror_mode": {
    "name": "ipython",
    "version": 3
   },
   "file_extension": ".py",
   "mimetype": "text/x-python",
   "name": "python",
   "nbconvert_exporter": "python",
   "pygments_lexer": "ipython3",
   "version": "3.6.8"
  }
 },
 "nbformat": 4,
 "nbformat_minor": 2
}
